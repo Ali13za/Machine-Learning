{
  "cells": [
    {
      "cell_type": "markdown",
      "metadata": {
        "id": "0_6codqFnXgi"
      },
      "source": [
        "# SVM for classification, without and with kernels\n",
        "\n",
        "In this notebook we are going to explore the use of Support Vector Machines (SVMs) for image classification. We are going to use the famous MNIST dataset, that is a dataset of handwritten digits. We get the data from mldata.org, that is a public repository for machine learning data.\n",
        "\n",
        "The dataset consists of 70,000 images of handwritten digits (i.e., 0, 1, ... 9). Each image is 28 pixels by 28 pixels and we can think of it as a vector of 28x28 = 784 numbers. Each number is an integer between 0 and 255. For each image we have the corresponding label (i.e., 0, 1, ..., 9)."
      ]
    },
    {
      "cell_type": "code",
      "execution_count": 1,
      "metadata": {
        "id": "w7owrXabnXgn"
      },
      "outputs": [],
      "source": [
        "#load the required packages\n",
        "\n",
        "%matplotlib inline  \n",
        "\n",
        "import numpy as np\n",
        "import matplotlib.pyplot as plt\n",
        "\n",
        "import sklearn\n",
        "from sklearn.datasets import fetch_openml"
      ]
    },
    {
      "cell_type": "markdown",
      "metadata": {
        "id": "f1Q2n9z_nXgr"
      },
      "source": [
        "Now let's load the dataset. 'data' contains the input, 'target' contains the label. We normalize the data by dividing each value by 255 so that each value is in [0,1]"
      ]
    },
    {
      "cell_type": "code",
      "execution_count": 2,
      "metadata": {
        "id": "Zn7ErChanXgs"
      },
      "outputs": [
        {
          "name": "stderr",
          "output_type": "stream",
          "text": [
            "d:\\Python\\Python310\\lib\\site-packages\\sklearn\\datasets\\_openml.py:968: FutureWarning: The default value of `parser` will change from `'liac-arff'` to `'auto'` in 1.4. You can set `parser='auto'` to silence this warning. Therefore, an `ImportError` will be raised from 1.4 if the dataset is dense and pandas is not installed. Note that the pandas parser may return different data types. See the Notes Section in fetch_openml's API doc for details.\n",
            "  warn(\n"
          ]
        }
      ],
      "source": [
        "# TODO: Normalize MNIST dataset and rescale the data\n",
        "# Load the MNIST dataset and normalize the features so that each value is in the range [0,1]\n",
        "mnist = fetch_openml('mnist_784', version=1)\n",
        "# Rescale the data\n",
        "X, y = mnist.data.to_numpy() / 255., mnist.target.to_numpy()"
      ]
    },
    {
      "cell_type": "markdown",
      "metadata": {
        "id": "THXcR9T1nXgu"
      },
      "source": [
        "Now split into training and test. We keep 500 samples in the training set. Make sure that each label is present at least 10 times\n",
        "in training. If it is not, then keep adding permutations to the initial data until this \n",
        "happens.\n",
        "\n",
        "**IMPORTANT**: if you cannot run the SVM with 500 samples or 1000 samples (see below), try with a smaller number of samples (e.g. 200 here and 400 below)."
      ]
    },
    {
      "cell_type": "code",
      "execution_count": 22,
      "metadata": {
        "id": "mK2rPXy3nXgv"
      },
      "outputs": [
        {
          "name": "stdout",
          "output_type": "stream",
          "text": [
            "Labels and their frequencies in the training dataset: \n",
            "0: 44\n",
            "1: 72\n",
            "2: 50\n",
            "3: 65\n",
            "4: 54\n",
            "5: 37\n",
            "6: 52\n",
            "7: 46\n",
            "8: 35\n",
            "9: 45\n"
          ]
        }
      ],
      "source": [
        "# Randomly permute the data and split it into training and test sets, taking the first 500\n",
        "# data samples as training and the rest as test.\n",
        "permutation = np.random.permutation(X.shape[0])\n",
        "\n",
        "X = X[permutation]\n",
        "y = y[permutation]\n",
        "\n",
        "m_training = 500\n",
        "\n",
        "X_train, X_test = X[:m_training], X[m_training:]\n",
        "y_train, y_test = y[:m_training], y[m_training:]\n",
        "\n",
        "# Print the labels and their frequencies in the training dataset.\n",
        "print(\"Labels and their frequencies in the training dataset: \")\n",
        "unique_labels, label_counts = np.unique(y_train, return_counts=True)\n",
        "for label, count in zip(unique_labels, label_counts):\n",
        "    print(f\"{label}: {count}\")"
      ]
    },
    {
      "cell_type": "markdown",
      "metadata": {
        "id": "45ksUODunXgw"
      },
      "source": [
        "We now provide a function to print an image in a dataset, the corresponding true label, and the index of the image in the dataset."
      ]
    },
    {
      "cell_type": "code",
      "execution_count": 23,
      "metadata": {
        "id": "TeXh2BpHrd-5"
      },
      "outputs": [],
      "source": [
        "def plot_digit(X_matrix, labels, index):\n",
        "    \"\"\"\n",
        "    Plots a digit from the X_matrix and prints the corresponding label.\n",
        "    Args:\n",
        "    X_matrix (numpy.ndarray): Matrix of digit images.\n",
        "    labels (numpy.ndarray): Array of digit labels.\n",
        "    index (int): Index of the digit to plot and print.\n",
        "    \"\"\"\n",
        "    print(\"INPUT:\")\n",
        "    plt.imshow(\n",
        "        X_matrix[index].reshape(28,28),\n",
        "        cmap          = plt.cm.gray_r,\n",
        "        interpolation = \"nearest\"\n",
        "    )\n",
        "    plt.show()\n",
        "    print(\"LABEL: %s\" % labels[index])"
      ]
    },
    {
      "cell_type": "markdown",
      "metadata": {
        "id": "JEDj_SMOnXgz"
      },
      "source": [
        "As an example, let's print the 100-th image in X_train and the 40,000-th image in X_test and their true labels."
      ]
    },
    {
      "cell_type": "code",
      "execution_count": 9,
      "metadata": {
        "id": "9USuS-ztnXg1"
      },
      "outputs": [
        {
          "name": "stdout",
          "output_type": "stream",
          "text": [
            "INPUT:\n"
          ]
        },
        {
          "data": {
            "image/png": "[encoded data removed]",
            "text/plain": [
              "<Figure size 640x480 with 1 Axes>"
            ]
          },
          "metadata": {},
          "output_type": "display_data"
        },
        {
          "name": "stdout",
          "output_type": "stream",
          "text": [
            "LABEL: 1\n",
            "INPUT:\n"
          ]
        },
        {
          "data": {
            "image/png": "[encoded data removed]",
            "text/plain": [
              "<Figure size 640x480 with 1 Axes>"
            ]
          },
          "metadata": {},
          "output_type": "display_data"
        },
        {
          "name": "stdout",
          "output_type": "stream",
          "text": [
            "LABEL: 8\n"
          ]
        }
      ],
      "source": [
        "# Plot the 100th digit in the training set\n",
        "plot_digit(X_train, y_train, 100)\n",
        "\n",
        "# Plot the 40,000th digit in the test set\n",
        "plot_digit(X_test, y_test,40000)"
      ]
    },
    {
      "cell_type": "markdown",
      "metadata": {
        "id": "dp9-uKtFnXg4"
      },
      "source": [
        "## Section 1\n",
        "Run SVM with cross validation to pick a kernel and values of parameters. Use a 5-fold cross-validation to pick the best kernel and choice of parameters. We provide some potential choice for parameters, but change the grid if needed (e.g., it takes too long). For the SVM for classification use SVC from sklearn.svm; for the linear_grid search we suggest you use gridSearchCV from sklearn.model_selection, but you can implement your own cross-validation for model selection if you prefer.\n",
        "\n",
        "Print the best parameters used as well as the score obtained by the best model"
      ]
    },
    {
      "cell_type": "code",
      "execution_count": 24,
      "metadata": {
        "id": "49FHb1CKuSa2"
      },
      "outputs": [
        {
          "name": "stdout",
          "output_type": "stream",
          "text": [
            "RESULTS FOR LINEAR KERNEL\n",
            "\n",
            "Best parameters set found:\n",
            "{'C': 1}\n",
            "Score with best parameters:\n",
            "0.828\n",
            "\n",
            "All scores on the grid:\n",
            "[0.828 0.828 0.828]\n",
            "\n",
            "RESULTS FOR POLY DEGREE=2 KERNEL\n",
            "\n",
            "Best parameters set found:\n",
            "{'C': 1, 'gamma': 0.1}\n",
            "Score with best parameters:\n",
            "0.828\n",
            "\n",
            "All scores on the grid:\n",
            "[0.79  0.828 0.828 0.828 0.828 0.828 0.828 0.828 0.828]\n",
            "\n",
            "RESULTS FOR RBF KERNEL\n",
            "\n",
            "Best parameters set found:\n",
            "{'C': 10, 'gamma': 0.01}\n",
            "Score with best parameters:\n",
            "0.8539999999999999\n",
            "\n",
            "All scores on the grid:\n",
            "[0.844 0.324 0.144 0.854 0.36  0.144 0.854 0.36  0.144]\n"
          ]
        }
      ],
      "source": [
        "# Import the Support Vector Classifier (SVC) and gridSearchCV modules\n",
        "from sklearn.svm import SVC\n",
        "from sklearn.model_selection import GridSearchCV\n",
        "\n",
        "# Set the parameters for the linear SVM\n",
        "parameters = {'C': [1, 10, 100]}\n",
        "\n",
        "# Create a linear SVM object\n",
        "linear_SVM = SVC(kernel='linear')\n",
        "\n",
        "# TODO: Find the best model using 5-fold cross-validation and train it using all the training data\n",
        "linear_grid = GridSearchCV(estimator=linear_SVM, param_grid=parameters, cv=5, refit=True)\n",
        "linear_grid.fit(X_train, y_train)\n",
        "\n",
        "# Print the results for the linear kernel\n",
        "print('RESULTS FOR LINEAR KERNEL\\n')\n",
        "\n",
        "print(\"Best parameters set found:\")\n",
        "# TODO\n",
        "print(linear_grid.best_params_)\n",
        "\n",
        "print(\"Score with best parameters:\")\n",
        "# TODO\n",
        "print(linear_grid.best_score_)\n",
        "\n",
        "print(\"\\nAll scores on the grid:\")\n",
        "# TODO\n",
        "print(linear_grid.cv_results_['mean_test_score'])\n",
        "\n",
        "# Set the parameters for the polynomial kernel with degree 2\n",
        "parameters = {'C': [1, 10, 100], 'gamma': [0.01, 0.1, 1.]}\n",
        "# Create a polynomial kernel with degree 2 SVM object\n",
        "poly2_SVM = SVC(kernel='poly', degree=2)\n",
        "\n",
        "# TO DO: Find the best model using 5-fold cross-validation and train it using all the training data\n",
        "poly_grid = GridSearchCV(estimator=poly2_SVM, param_grid=parameters, cv=5, refit=True)\n",
        "poly_grid.fit(X_train, y_train)\n",
        "# Print the results for the polynomial kernel with degree 2\n",
        "print('\\nRESULTS FOR POLY DEGREE=2 KERNEL\\n')\n",
        "\n",
        "print(\"Best parameters set found:\")\n",
        "# TODO\n",
        "print(poly_grid.best_params_)\n",
        "\n",
        "print(\"Score with best parameters:\")\n",
        "# TODO\n",
        "print(poly_grid.best_score_)\n",
        "\n",
        "print(\"\\nAll scores on the grid:\")\n",
        "# TODO\n",
        "print(poly_grid.cv_results_['mean_test_score'])\n",
        "\n",
        "# Set the parameters for the RBF kernel\n",
        "parameters = {'C': [1, 10, 100], 'gamma': [0.01, 0.1, 1.]}\n",
        "\n",
        "# Create an RBF kernel SVM object\n",
        "rbf_SVM = SVC(kernel='rbf')\n",
        "\n",
        "# TO DO: Find the best model using 5-fold cross-validation and train it using all the training data\n",
        "rbf_grid = GridSearchCV(estimator=rbf_SVM, param_grid=parameters, cv=5, refit=True)\n",
        "rbf_grid.fit(X_train, y_train)\n",
        "# Print the results for the RBF kernel\n",
        "print('\\nRESULTS FOR RBF KERNEL\\n')\n",
        "\n",
        "print(\"Best parameters set found:\")\n",
        "# TO DO\n",
        "print(rbf_grid.best_params_)\n",
        "\n",
        "print(\"Score with best parameters:\")\n",
        "# TO DO\n",
        "print(rbf_grid.best_score_)\n",
        "\n",
        "print(\"\\nAll scores on the grid:\")\n",
        "# TO DO\n",
        "print(rbf_grid.cv_results_['mean_test_score'])"
      ]
    },
    {
      "cell_type": "markdown",
      "metadata": {
        "id": "sECvVFNvnXg6"
      },
      "source": [
        "## Section 2\n",
        "For the \"best\" SVM kernel and choice of parameters from above, train the model on the entire training set and measure the training error. Also make predictions on the test set and measure the test error. Print the training and the test error."
      ]
    },
    {
      "cell_type": "code",
      "execution_count": 25,
      "metadata": {
        "id": "sk0mqc0QnXg6"
      },
      "outputs": [
        {
          "name": "stdout",
          "output_type": "stream",
          "text": [
            "Best SVM training error: 0.000000\n",
            "Best SVM test error: 0.105640\n"
          ]
        }
      ],
      "source": [
        "# Get the best SVM model from cross-validation\n",
        "best_SVM = rbf_grid.best_estimator_ # TODO\n",
        "\n",
        "# Fit the model on the entire training set\n",
        "best_SVM.fit(X_train, y_train)\n",
        "\n",
        "# Get the training and test error\n",
        "training_error = 1. - best_SVM.score(X_train, y_train)\n",
        "test_error = 1. - best_SVM.score(X_test, y_test)\n",
        "\n",
        "# Print the training and test error for the best SVM model\n",
        "print(\"Best SVM training error: %f\" % training_error)\n",
        "print(\"Best SVM test error: %f\" % test_error)\n"
      ]
    },
    {
      "cell_type": "markdown",
      "metadata": {
        "id": "-nMoD65fnXg6"
      },
      "source": [
        "## Use logistic regression for comparison\n",
        "\n",
        "## Section 3\n",
        "\n",
        "Just for comparison let's also use logistic regression, first with the default values of the parameter for regularization and then with cross-validation to fix the value of the parameter. For cross validation, use 5-fold cross validation and the default values of the regularization parameters for the function linear_model.LogisticRegressionCV(...)"
      ]
    },
    {
      "cell_type": "code",
      "execution_count": 26,
      "metadata": {
        "id": "lHBdJ76QtwDB"
      },
      "outputs": [
        {
          "name": "stdout",
          "output_type": "stream",
          "text": [
            "Best logistic regression training error: 0.000000\n",
            "Best logistic regression test error: 0.154317\n",
            "Best logistic regression training error: 0.002000\n",
            "Best logistic regression test error: 0.151554\n"
          ]
        }
      ],
      "source": [
        "from sklearn import linear_model\n",
        "\n",
        "# Create a logistic regression object\n",
        "lr = linear_model.LogisticRegression(max_iter=1000)\n",
        "\n",
        "# TODO: Fit the model on the training data\n",
        "# ADD CODE\n",
        "lr.fit(X_train, y_train)\n",
        "\n",
        "# Compute the training and test error for the logistic regression model\n",
        "training_error = 1. - lr.score(X_train, y_train) # TODO\n",
        "test_error = 1. - lr.score(X_test, y_test) # TODO\n",
        "\n",
        "print(\"Best logistic regression training error: %f\" % training_error)\n",
        "print(\"Best logistic regression test error: %f\" % test_error)\n",
        "\n",
        "# Use logistic regression with 5-fold cross-validation\n",
        "# You can use linear_model.LogisticRegressionCV\n",
        "# Use 5-fold cross-validation to find the best choice of the parameter, then train\n",
        "# the model on the entire training set\n",
        "\n",
        "lr_cv = linear_model.LogisticRegressionCV(cv=5, max_iter=1000) # TODO\n",
        "lr_cv.fit(X_train, y_train)\n",
        "training_error_cv = 1. - lr_cv.score(X_train, y_train) # TODO\n",
        "test_error_cv = 1. - lr_cv.score(X_test, y_test) # TODO\n",
        "\n",
        "print(\"Best logistic regression training error: %f\" % training_error_cv)\n",
        "print(\"Best logistic regression test error: %f\" % test_error_cv)\n"
      ]
    },
    {
      "cell_type": "markdown",
      "metadata": {
        "id": "D1zBeUFYnXg8"
      },
      "source": [
        "## Section 4 \n",
        "Compare and comment the results from SVM and logistic regression."
      ]
    },
    {
      "attachments": {},
      "cell_type": "markdown",
      "metadata": {},
      "source": [
        "Among SVM models RBF with parameters $ \\{C = 10 , \\gamma = 0.01 \\} $ had the best test score and was chosen as best SVM. With this model, test error was 10.5\\%. On the other hand, the best logistic regression model didn't reach less than 15\\% in test error. Hence, SVM is doing better than logistic regression"
      ]
    },
    {
      "cell_type": "markdown",
      "metadata": {
        "id": "tjEGnvoynXg8"
      },
      "source": [
        "## Section 5\n",
        "Write the code that finds and plots a digit that is missclassified by logistic regression (optimized for the regularization parameter) and correctly classified by the \"best\" SVM."
      ]
    },
    {
      "cell_type": "code",
      "execution_count": 35,
      "metadata": {
        "id": "md8_fNFxnXg8"
      },
      "outputs": [
        {
          "name": "stdout",
          "output_type": "stream",
          "text": [
            "INPUT:\n"
          ]
        },
        {
          "data": {
            "image/png": "[encoded data removed]",
            "text/plain": [
              "<Figure size 640x480 with 1 Axes>"
            ]
          },
          "metadata": {},
          "output_type": "display_data"
        },
        {
          "name": "stdout",
          "output_type": "stream",
          "text": [
            "LABEL: 5\n",
            "logistic regression: ['3']\n",
            "best SVM : ['5']\n"
          ]
        }
      ],
      "source": [
        "# ADD CODE\n",
        "for i in range(len(X_test)):\n",
        "    x, y = X_test[i].reshape(1, -1), y_test[i]\n",
        "    if lr_cv.predict(x) != y and best_SVM.predict(x) == y:\n",
        "        plot_digit(X_test, y_test, i)\n",
        "        print(f'logistic regression: {lr_cv.predict(x)}')\n",
        "        print(f'best SVM : {best_SVM.predict(x)}')\n",
        "        break"
      ]
    },
    {
      "cell_type": "markdown",
      "metadata": {
        "id": "xrWB8rZvnXg9"
      },
      "source": [
        "## More data\n",
        "Now let's do the same but using 1000 data points for training. \n",
        "\n",
        "## Section 6\n",
        "Repeat the entire analysis above using 1000 samples. Of course you can copy the code from above."
      ]
    },
    {
      "cell_type": "code",
      "execution_count": 37,
      "metadata": {},
      "outputs": [
        {
          "name": "stderr",
          "output_type": "stream",
          "text": [
            "d:\\Python\\Python310\\lib\\site-packages\\sklearn\\datasets\\_openml.py:968: FutureWarning: The default value of `parser` will change from `'liac-arff'` to `'auto'` in 1.4. You can set `parser='auto'` to silence this warning. Therefore, an `ImportError` will be raised from 1.4 if the dataset is dense and pandas is not installed. Note that the pandas parser may return different data types. See the Notes Section in fetch_openml's API doc for details.\n",
            "  warn(\n"
          ]
        }
      ],
      "source": [
        "# TODO: Normalize MNIST dataset and rescale the data\n",
        "# Load the MNIST dataset and normalize the features so that each value is in the range [0,1]\n",
        "mnist = fetch_openml('mnist_784', version=1)\n",
        "# Rescale the data\n",
        "X, y = mnist.data.to_numpy() / 255., mnist.target.to_numpy()"
      ]
    },
    {
      "cell_type": "code",
      "execution_count": 38,
      "metadata": {},
      "outputs": [
        {
          "name": "stdout",
          "output_type": "stream",
          "text": [
            "Labels and their frequencies in the training dataset: \n",
            "0: 108\n",
            "1: 116\n",
            "2: 98\n",
            "3: 93\n",
            "4: 106\n",
            "5: 99\n",
            "6: 96\n",
            "7: 102\n",
            "8: 91\n",
            "9: 91\n"
          ]
        }
      ],
      "source": [
        "# Randomly permute the data and split it into training and test sets, taking the first 500\n",
        "# data samples as training and the rest as test.\n",
        "permutation = np.random.permutation(X.shape[0])\n",
        "\n",
        "X = X[permutation]\n",
        "y = y[permutation]\n",
        "\n",
        "m_training = 1000\n",
        "\n",
        "X_train, X_test = X[:m_training], X[m_training:]\n",
        "y_train, y_test = y[:m_training], y[m_training:]\n",
        "\n",
        "# Print the labels and their frequencies in the training dataset.\n",
        "print(\"Labels and their frequencies in the training dataset: \")\n",
        "unique_labels, label_counts = np.unique(y_train, return_counts=True)\n",
        "for label, count in zip(unique_labels, label_counts):\n",
        "    print(f\"{label}: {count}\")"
      ]
    },
    {
      "cell_type": "code",
      "execution_count": 39,
      "metadata": {},
      "outputs": [
        {
          "name": "stdout",
          "output_type": "stream",
          "text": [
            "RESULTS FOR LINEAR KERNEL\n",
            "\n",
            "Best parameters set found:\n",
            "{'C': 1}\n",
            "Score with best parameters:\n",
            "0.865\n",
            "\n",
            "All scores on the grid:\n",
            "[0.865 0.865 0.865]\n",
            "\n",
            "RESULTS FOR POLY DEGREE=2 KERNEL\n",
            "\n",
            "Best parameters set found:\n",
            "{'C': 10, 'gamma': 0.01}\n",
            "Score with best parameters:\n",
            "0.89\n",
            "\n",
            "All scores on the grid:\n",
            "[0.861 0.889 0.889 0.89  0.889 0.889 0.889 0.889 0.889]\n",
            "\n",
            "RESULTS FOR RBF KERNEL\n",
            "\n",
            "Best parameters set found:\n",
            "{'C': 10, 'gamma': 0.01}\n",
            "Score with best parameters:\n",
            "0.899\n",
            "\n",
            "All scores on the grid:\n",
            "[0.896 0.715 0.116 0.899 0.743 0.116 0.899 0.743 0.116]\n"
          ]
        }
      ],
      "source": [
        "# Import the Support Vector Classifier (SVC) and gridSearchCV modules\n",
        "from sklearn.svm import SVC\n",
        "from sklearn.model_selection import GridSearchCV\n",
        "\n",
        "# Set the parameters for the linear SVM\n",
        "parameters = {'C': [1, 10, 100]}\n",
        "\n",
        "# Create a linear SVM object\n",
        "linear_SVM = SVC(kernel='linear')\n",
        "\n",
        "# TODO: Find the best model using 5-fold cross-validation and train it using all the training data\n",
        "linear_grid = GridSearchCV(estimator=linear_SVM, param_grid=parameters, cv=5, refit=True)\n",
        "linear_grid.fit(X_train, y_train)\n",
        "\n",
        "# Print the results for the linear kernel\n",
        "print('RESULTS FOR LINEAR KERNEL\\n')\n",
        "\n",
        "print(\"Best parameters set found:\")\n",
        "# TODO\n",
        "print(linear_grid.best_params_)\n",
        "\n",
        "print(\"Score with best parameters:\")\n",
        "# TODO\n",
        "print(linear_grid.best_score_)\n",
        "\n",
        "print(\"\\nAll scores on the grid:\")\n",
        "# TODO\n",
        "print(linear_grid.cv_results_['mean_test_score'])\n",
        "\n",
        "# Set the parameters for the polynomial kernel with degree 2\n",
        "parameters = {'C': [1, 10, 100], 'gamma': [0.01, 0.1, 1.]}\n",
        "# Create a polynomial kernel with degree 2 SVM object\n",
        "poly2_SVM = SVC(kernel='poly', degree=2)\n",
        "\n",
        "# TO DO: Find the best model using 5-fold cross-validation and train it using all the training data\n",
        "poly_grid = GridSearchCV(estimator=poly2_SVM, param_grid=parameters, cv=5, refit=True)\n",
        "poly_grid.fit(X_train, y_train)\n",
        "# Print the results for the polynomial kernel with degree 2\n",
        "print('\\nRESULTS FOR POLY DEGREE=2 KERNEL\\n')\n",
        "\n",
        "print(\"Best parameters set found:\")\n",
        "# TODO\n",
        "print(poly_grid.best_params_)\n",
        "\n",
        "print(\"Score with best parameters:\")\n",
        "# TODO\n",
        "print(poly_grid.best_score_)\n",
        "\n",
        "print(\"\\nAll scores on the grid:\")\n",
        "# TODO\n",
        "print(poly_grid.cv_results_['mean_test_score'])\n",
        "\n",
        "# Set the parameters for the RBF kernel\n",
        "parameters = {'C': [1, 10, 100], 'gamma': [0.01, 0.1, 1.]}\n",
        "\n",
        "# Create an RBF kernel SVM object\n",
        "rbf_SVM = SVC(kernel='rbf')\n",
        "\n",
        "# TO DO: Find the best model using 5-fold cross-validation and train it using all the training data\n",
        "rbf_grid = GridSearchCV(estimator=rbf_SVM, param_grid=parameters, cv=5, refit=True)\n",
        "rbf_grid.fit(X_train, y_train)\n",
        "# Print the results for the RBF kernel\n",
        "print('\\nRESULTS FOR RBF KERNEL\\n')\n",
        "\n",
        "print(\"Best parameters set found:\")\n",
        "# TO DO\n",
        "print(rbf_grid.best_params_)\n",
        "\n",
        "print(\"Score with best parameters:\")\n",
        "# TO DO\n",
        "print(rbf_grid.best_score_)\n",
        "\n",
        "print(\"\\nAll scores on the grid:\")\n",
        "# TO DO\n",
        "print(rbf_grid.cv_results_['mean_test_score'])"
      ]
    },
    {
      "cell_type": "code",
      "execution_count": 40,
      "metadata": {},
      "outputs": [
        {
          "name": "stdout",
          "output_type": "stream",
          "text": [
            "Best SVM training error: 0.000000\n",
            "Best SVM test error: 0.082058\n"
          ]
        }
      ],
      "source": [
        "# Get the best SVM model from cross-validation\n",
        "best_SVM = rbf_grid.best_estimator_ # TODO\n",
        "\n",
        "# Fit the model on the entire training set\n",
        "best_SVM.fit(X_train, y_train)\n",
        "\n",
        "# Get the training and test error\n",
        "training_error = 1. - best_SVM.score(X_train, y_train)\n",
        "test_error = 1. - best_SVM.score(X_test, y_test)\n",
        "\n",
        "# Print the training and test error for the best SVM model\n",
        "print(\"Best SVM training error: %f\" % training_error)\n",
        "print(\"Best SVM test error: %f\" % test_error)\n"
      ]
    },
    {
      "cell_type": "code",
      "execution_count": 41,
      "metadata": {},
      "outputs": [
        {
          "name": "stdout",
          "output_type": "stream",
          "text": [
            "Best logistic regression training error: 0.000000\n",
            "Best logistic regression test error: 0.141391\n",
            "Best logistic regression training error: 0.000000\n",
            "Best logistic regression test error: 0.144841\n"
          ]
        }
      ],
      "source": [
        "from sklearn import linear_model\n",
        "\n",
        "# Create a logistic regression object\n",
        "lr = linear_model.LogisticRegression(max_iter=1000)\n",
        "\n",
        "# TODO: Fit the model on the training data\n",
        "# ADD CODE\n",
        "lr.fit(X_train, y_train)\n",
        "\n",
        "# Compute the training and test error for the logistic regression model\n",
        "training_error = 1. - lr.score(X_train, y_train) # TODO\n",
        "test_error = 1. - lr.score(X_test, y_test) # TODO\n",
        "\n",
        "print(\"Best logistic regression training error: %f\" % training_error)\n",
        "print(\"Best logistic regression test error: %f\" % test_error)\n",
        "\n",
        "# Use logistic regression with 5-fold cross-validation\n",
        "# You can use linear_model.LogisticRegressionCV\n",
        "# Use 5-fold cross-validation to find the best choice of the parameter, then train\n",
        "# the model on the entire training set\n",
        "\n",
        "lr_cv = linear_model.LogisticRegressionCV(cv=5, max_iter=1000) # TODO\n",
        "lr_cv.fit(X_train, y_train)\n",
        "training_error_cv = 1. - lr_cv.score(X_train, y_train) # TODO\n",
        "test_error_cv = 1. - lr_cv.score(X_test, y_test) # TODO\n",
        "\n",
        "print(\"Best logistic regression training error: %f\" % training_error_cv)\n",
        "print(\"Best logistic regression test error: %f\" % test_error_cv)\n"
      ]
    },
    {
      "cell_type": "code",
      "execution_count": 42,
      "metadata": {},
      "outputs": [
        {
          "name": "stdout",
          "output_type": "stream",
          "text": [
            "INPUT:\n"
          ]
        },
        {
          "data": {
            "image/png": "[encoded data removed]",
            "text/plain": [
              "<Figure size 640x480 with 1 Axes>"
            ]
          },
          "metadata": {},
          "output_type": "display_data"
        },
        {
          "name": "stdout",
          "output_type": "stream",
          "text": [
            "LABEL: 0\n",
            "logistic regression: ['8']\n",
            "best SVM : ['0']\n"
          ]
        }
      ],
      "source": [
        "# ADD CODE\n",
        "for i in range(len(X_test)):\n",
        "    x, y = X_test[i].reshape(1, -1), y_test[i]\n",
        "    if lr_cv.predict(x) != y and best_SVM.predict(x) == y:\n",
        "        plot_digit(X_test, y_test, i)\n",
        "        print(f'logistic regression: {lr_cv.predict(x)}')\n",
        "        print(f'best SVM : {best_SVM.predict(x)}')\n",
        "        break"
      ]
    },
    {
      "cell_type": "markdown",
      "metadata": {
        "id": "0gkWCjdVnXg9"
      },
      "source": [
        "## Section 7\n",
        "Compare and comment on the differences with the results above."
      ]
    },
    {
      "attachments": {},
      "cell_type": "markdown",
      "metadata": {},
      "source": [
        "The best SVM model improved in test error by 2\\% and reached 8\\% error. Logistic regression model improved 1\\% in test error and reached 14\\%. Increasing train set, made the models more accurate. However, this better performance is less than the increase in data!"
      ]
    }
  ],
  "metadata": {
    "colab": {
      "provenance": []
    },
    "kernelspec": {
      "display_name": "Python 3",
      "language": "python",
      "name": "python3"
    },
    "language_info": {
      "codemirror_mode": {
        "name": "ipython",
        "version": 3
      },
      "file_extension": ".py",
      "mimetype": "text/x-python",
      "name": "python",
      "nbconvert_exporter": "python",
      "pygments_lexer": "ipython3",
      "version": "3.10.7"
    }
  },
  "nbformat": 4,
  "nbformat_minor": 0
}
