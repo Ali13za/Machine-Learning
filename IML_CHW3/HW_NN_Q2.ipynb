{
  "cells": [
    {
      "cell_type": "markdown",
      "id": "9779e5d5",
      "metadata": {
        "id": "9779e5d5"
      },
      "source": [
        "<div align=center>\n",
        "\n",
        "<font size=5>\n",
        "    In the Name of God\n",
        "<font/>\n",
        "<br/>\n",
        "<br/>\n",
        "<font>\n",
        "    Sharif University of Technology - Departmenet of Electrical Engineering\n",
        "</font>\n",
        "<br/>\n",
        "<font>\n",
        "    Introducing with Machine Learing - Dr. S. Amini\n",
        "</font>\n",
        "<br/>\n",
        "<br/>\n",
        "Spring 2023\n",
        "\n",
        "</div>\n",
        "\n",
        "<hr/>\n",
        "<div align=center>\n",
        "<font size=6>\n",
        "    Neural Networks Practical Assignment\n",
        "    \n",
        "    Question 2\n",
        "</font>\n",
        "<br/>\t\t\n",
        "<font size=4>\n",
        "<br/>\n",
        "</div>"
      ]
    },
    {
      "cell_type": "markdown",
      "id": "1d55ee53",
      "metadata": {
        "id": "1d55ee53"
      },
      "source": [
        "# Personal Data"
      ]
    },
    {
      "cell_type": "code",
      "execution_count": null,
      "id": "40e950d8",
      "metadata": {
        "id": "40e950d8"
      },
      "outputs": [],
      "source": [
        "# Set your student number\n",
        "student_number = 98101941\n",
        "Name = 'Alireza'\n",
        "Last_Name = 'Talebi Eshlaqi'"
      ]
    },
    {
      "cell_type": "markdown",
      "id": "2edb1e44",
      "metadata": {
        "id": "2edb1e44"
      },
      "source": [
        "# Rules\n",
        "- You are not allowed to add or remove cells. You **must use the provided space to write your code**. If you don't follow this rule, **your Practical Assignment won't be graded**.  \n",
        "\n",
        "- Collaboration and using the internet is allowed, but your code **must be written by yourself**. **Copying code** from each other or from available resources will result in a **zero score for the assignment**.\n",
        "\n",
        "- In this question, you are allowed to use `torch.optim`, `torch.nn` or any other submodule you need.\n",
        "- You **are not allowed** to use the models already implemented or the pretrained models in torch. "
      ]
    },
    {
      "cell_type": "code",
      "execution_count": null,
      "id": "7a15a195",
      "metadata": {
        "id": "7a15a195"
      },
      "outputs": [],
      "source": [
        "%pip install numpy\n",
        "%pip install matplotlib\n",
        "%pip install torchvision\n",
        "%pip install torch"
      ]
    },
    {
      "cell_type": "markdown",
      "id": "85c3b02e",
      "metadata": {
        "id": "85c3b02e"
      },
      "source": [
        "## Importing Libraries"
      ]
    },
    {
      "cell_type": "code",
      "execution_count": 1,
      "id": "b6246005",
      "metadata": {
        "id": "b6246005"
      },
      "outputs": [],
      "source": [
        "import torch\n",
        "from torchvision.datasets import CIFAR10\n",
        "from torchvision import transforms\n",
        "from torch.utils.data import DataLoader\n",
        "\n",
        "import numpy as np\n",
        "from matplotlib import pyplot as plt\n",
        "from typing import Dict"
      ]
    },
    {
      "cell_type": "markdown",
      "id": "2c89754b",
      "metadata": {
        "id": "2c89754b"
      },
      "source": [
        "## Datasets and Dataloaders\n",
        "\n",
        "You should load the train and test set of the `CIFAR10` dataset and apply the desired transforms on it. Then, you should create the loaders for these `test` and `train` sets.\n",
        "- **Hint:** You can use `torchvision.datasets` to easily load the CIFAR10 dataset."
      ]
    },
    {
      "cell_type": "code",
      "execution_count": 3,
      "id": "40e10458",
      "metadata": {
        "colab": {
          "base_uri": "https://localhost:8080/"
        },
        "id": "40e10458",
        "outputId": "bd435d3a-1399-4563-b262-799f5cf3225d"
      },
      "outputs": [
        {
          "output_type": "stream",
          "name": "stdout",
          "text": [
            "Downloading https://www.cs.toronto.edu/~kriz/cifar-10-python.tar.gz to ./cifar-10-python.tar.gz\n"
          ]
        },
        {
          "output_type": "stream",
          "name": "stderr",
          "text": [
            "100%|██████████| 170498071/170498071 [00:01<00:00, 104997529.11it/s]\n"
          ]
        },
        {
          "output_type": "stream",
          "name": "stdout",
          "text": [
            "Extracting ./cifar-10-python.tar.gz to .\n",
            "Files already downloaded and verified\n"
          ]
        }
      ],
      "source": [
        "## FILL HERE\n",
        "train_set = CIFAR10(root='.', train=True, download=True, transform=transforms.ToTensor())\n",
        "test_set = CIFAR10(root='.', train=False, download=True, transform=transforms.ToTensor())"
      ]
    },
    {
      "cell_type": "code",
      "execution_count": 4,
      "id": "bbaaee1a",
      "metadata": {
        "id": "bbaaee1a"
      },
      "outputs": [],
      "source": [
        "image_shape = train_set[0][0].shape\n",
        "input_dim = np.prod(image_shape).item()\n",
        "# num_classes = len(CIFAR10.classes)"
      ]
    },
    {
      "cell_type": "code",
      "execution_count": 5,
      "id": "5404a5c9",
      "metadata": {
        "id": "5404a5c9"
      },
      "outputs": [],
      "source": [
        "train_loader = DataLoader(train_set, batch_size=128, shuffle=True)\n",
        "test_loader = DataLoader(test_set, batch_size=128, shuffle=True)"
      ]
    },
    {
      "cell_type": "markdown",
      "id": "ee9a3be8",
      "metadata": {
        "id": "ee9a3be8"
      },
      "source": [
        "## Visualization\n",
        "\n",
        "Visualize 1 random image from each class\n"
      ]
    },
    {
      "cell_type": "code",
      "execution_count": 6,
      "id": "a1b039d1",
      "metadata": {
        "colab": {
          "base_uri": "https://localhost:8080/",
          "height": 334
        },
        "id": "a1b039d1",
        "outputId": "61f389b5-903b-491d-f816-2e54a7e15d26"
      },
      "outputs": [
        {
          "output_type": "display_data",
          "data": {
            "text/plain": [
              "<Figure size 800x400 with 10 Axes>"
            ],
            "image/png": "[encoded data removed]"
          },
          "metadata": {}
        }
      ],
      "source": [
        "## FILL HERE\n",
        "labels_map = {\n",
        "    0: 'plane',\n",
        "    1: 'car',\n",
        "    2: 'bird',\n",
        "    3: 'cat',\n",
        "    4: 'deer',\n",
        "    5: 'dog',\n",
        "    6: 'frog',\n",
        "    7: 'horse',\n",
        "    8: 'ship',\n",
        "    9: 'truck'\n",
        "}\n",
        "figure = plt.figure(figsize=(8, 4))\n",
        "cols, rows = 5, 2\n",
        "for i in range(cols * rows):\n",
        "    index = torch.randint(len(train_set), size=(1,)).item()\n",
        "    while train_set[index][1] != i:\n",
        "        index = torch.randint(len(train_set), size=(1,)).item()\n",
        "    img, label = train_set[index]\n",
        "    plt.subplot(rows, cols, i+1)\n",
        "    plt.title(labels_map[label])\n",
        "    plt.axis('off')\n",
        "    plt.imshow(img.permute(1, 2, 0))\n",
        "plt.show()"
      ]
    },
    {
      "cell_type": "markdown",
      "id": "1221642e",
      "metadata": {
        "id": "1221642e"
      },
      "source": [
        "## Defining a Convolutional Neural Network\n",
        "\n",
        "In this section, you should define a class called `Net` which represents the model for your convolutional neural network.\n",
        "- **Hint:** You can use `torch.nn` to add the required layers to your model."
      ]
    },
    {
      "cell_type": "code",
      "execution_count": 8,
      "id": "0ba6a266",
      "metadata": {
        "id": "0ba6a266"
      },
      "outputs": [],
      "source": [
        "import torch.nn as nn\n",
        "import torch.nn.functional as F\n",
        "\n",
        "\n",
        "class CIFAR10(nn.Module):\n",
        "    def __init__(self):\n",
        "        super().__init__()\n",
        "        ## FILL HERE\n",
        "        self.net = nn.Sequential(\n",
        "            nn.Conv2d(in_channels=3, out_channels=32, kernel_size=3, padding=1), nn.ReLU(),\n",
        "            nn.Conv2d(in_channels=32, out_channels=64, kernel_size=3, padding=1), nn.ReLU(),\n",
        "            nn.MaxPool2d(2, 2),\n",
        "            nn.Conv2d(in_channels=64, out_channels=128, kernel_size=3, padding=1), nn.ReLU(),\n",
        "            nn.Conv2d(in_channels=128, out_channels=256, kernel_size=3, padding=1), nn.ReLU(),\n",
        "            nn.MaxPool2d(2, 2),\n",
        "            nn.Conv2d(in_channels=256, out_channels=512, kernel_size=3, padding=1), nn.ReLU(),\n",
        "            nn.Conv2d(in_channels=512, out_channels=1024, kernel_size=3, padding=1), nn.ReLU(),\n",
        "            nn.MaxPool2d(2, 2),\n",
        "            nn.Flatten(),\n",
        "            nn.Linear(in_features=1024*4*4, out_features=1024), nn.ReLU(),\n",
        "            nn.Linear(in_features=1024, out_features=512), nn.ReLU(),\n",
        "            nn.Linear(in_features=512, out_features=10)\n",
        "        )\n",
        "    def forward(self, x):\n",
        "        ## FILL HERE\n",
        "        return self.net(x)\n",
        "    \n",
        "device = torch.device(\"cuda\" if torch.cuda.is_available() else \"cpu\")\n",
        "net = CIFAR10().to(device)"
      ]
    },
    {
      "cell_type": "markdown",
      "id": "e3c27c9f",
      "metadata": {
        "id": "e3c27c9f"
      },
      "source": [
        "## Define a Loss function and optimizer"
      ]
    },
    {
      "cell_type": "markdown",
      "id": "a8f1eadd",
      "metadata": {
        "id": "a8f1eadd"
      },
      "source": [
        "In this section, you simply define your loss function and optimizer.\n",
        "- **Hint:** You can use `torch.optim` and implemented loss functions in torch."
      ]
    },
    {
      "cell_type": "code",
      "execution_count": 9,
      "id": "79068600",
      "metadata": {
        "id": "79068600"
      },
      "outputs": [],
      "source": [
        "## FILL HERE\n",
        "import torch.optim as optim\n",
        "\n",
        "criterion = nn.CrossEntropyLoss()\n",
        "optimizer = optim.Adam(net.parameters(), lr=0.0003)"
      ]
    },
    {
      "cell_type": "markdown",
      "id": "b526ee28",
      "metadata": {
        "id": "b526ee28"
      },
      "source": [
        "## Training the model\n",
        "\n",
        "You should train your model for multiple epochs. You are free to choose the number of epochs. However, you should reach an acceptable accuracy at the end."
      ]
    },
    {
      "cell_type": "code",
      "execution_count": 10,
      "id": "fbf5c8d2",
      "metadata": {
        "colab": {
          "base_uri": "https://localhost:8080/"
        },
        "id": "fbf5c8d2",
        "outputId": "4c9b06bb-3313-4995-aec3-5e4c6252ad71"
      },
      "outputs": [
        {
          "output_type": "stream",
          "name": "stdout",
          "text": [
            "[1,   100] loss: 2.032\n",
            "[1,   200] loss: 1.757\n",
            "[1,   300] loss: 1.576\n",
            "[2,   100] loss: 1.304\n",
            "[2,   200] loss: 1.254\n",
            "[2,   300] loss: 1.189\n",
            "[3,   100] loss: 1.036\n",
            "[3,   200] loss: 0.996\n",
            "[3,   300] loss: 0.958\n",
            "[4,   100] loss: 0.841\n",
            "[4,   200] loss: 0.808\n",
            "[4,   300] loss: 0.803\n",
            "[5,   100] loss: 0.685\n",
            "[5,   200] loss: 0.686\n",
            "[5,   300] loss: 0.668\n",
            "[6,   100] loss: 0.572\n",
            "[6,   200] loss: 0.565\n",
            "[6,   300] loss: 0.555\n",
            "[7,   100] loss: 0.453\n",
            "[7,   200] loss: 0.449\n",
            "[7,   300] loss: 0.436\n",
            "[8,   100] loss: 0.336\n",
            "[8,   200] loss: 0.333\n",
            "[8,   300] loss: 0.340\n",
            "[9,   100] loss: 0.231\n",
            "[9,   200] loss: 0.244\n",
            "[9,   300] loss: 0.251\n",
            "[10,   100] loss: 0.146\n",
            "[10,   200] loss: 0.145\n",
            "[10,   300] loss: 0.178\n",
            "Finished Training\n"
          ]
        }
      ],
      "source": [
        "epoch_nums = 10 ## Number of epochs\n",
        "my_loss = []\n",
        "for epoch in range(epoch_nums):  # loop over the dataset multiple times\n",
        "\n",
        "    running_loss = 0.0\n",
        "    for i, data in enumerate(train_loader):\n",
        "        ## FILL HERE\n",
        "        img, labels = data\n",
        "        img = img.to(device)\n",
        "        labels = labels.to(device)\n",
        "        # forward + backward + optimize\n",
        "        outputs = net(img)\n",
        "        loss = criterion(outputs, labels)\n",
        "        running_loss += loss.item()\n",
        "        my_loss.append(loss.item())\n",
        "        # zero the parameter gradients\n",
        "        optimizer.zero_grad()\n",
        "        loss.backward()\n",
        "        optimizer.step()\n",
        "        # print statistics\n",
        "        if i % 100 == 99:    # print every 100 mini-batches\n",
        "            print(f'[{epoch + 1}, {i + 1:5d}] loss: {running_loss / 100:.3f}')\n",
        "            running_loss = 0.0\n",
        "        ## You should train the model and also print the running loss for each batch\n",
        "\n",
        "print('Finished Training')"
      ]
    },
    {
      "cell_type": "code",
      "source": [
        "plt.plot(my_loss)\n",
        "plt.title('train loss')\n",
        "plt.xlabel('batch')\n",
        "plt.show()"
      ],
      "metadata": {
        "colab": {
          "base_uri": "https://localhost:8080/",
          "height": 472
        },
        "id": "VPWTzon_N_7p",
        "outputId": "cf6dc1c5-363a-480d-859c-1e213ecde53c"
      },
      "id": "VPWTzon_N_7p",
      "execution_count": 12,
      "outputs": [
        {
          "output_type": "display_data",
          "data": {
            "text/plain": [
              "<Figure size 640x480 with 1 Axes>"
            ],
            "image/png": "[encoded data removed]"
          },
          "metadata": {}
        }
      ]
    },
    {
      "cell_type": "markdown",
      "id": "14558277",
      "metadata": {
        "id": "14558277"
      },
      "source": [
        "## Test the network on the test data\n",
        "\n",
        "In the following section, you should test your network and calculate the accuracy of your model on the test dataset."
      ]
    },
    {
      "cell_type": "code",
      "execution_count": 13,
      "id": "fb0f4803",
      "metadata": {
        "colab": {
          "base_uri": "https://localhost:8080/"
        },
        "id": "fb0f4803",
        "outputId": "997ed494-00a4-468f-fbb5-b8e5326f2b47"
      },
      "outputs": [
        {
          "output_type": "stream",
          "name": "stdout",
          "text": [
            "Accuracy of the network on the 10000 test images: 79 %\n"
          ]
        }
      ],
      "source": [
        "correct = 0\n",
        "total = 0\n",
        "# since we're not training, we don't need to calculate the gradients for our outputs\n",
        "with torch.no_grad():\n",
        "    for img, labels in test_loader:\n",
        "        ## FILL HERE\n",
        "        img = img.to(device)\n",
        "        labels = labels.to(device)\n",
        "        # calculate outputs by running images through the network\n",
        "        outputs = net(img)\n",
        "        # the class with the highest energy is what we choose as prediction\n",
        "        _, predicted = torch.max(outputs.data, 1)\n",
        "        total += labels.size(0)\n",
        "        correct += (predicted == labels).sum().item()\n",
        "\n",
        "print(f'Accuracy of the network on the 10000 test images: {100 * correct // total} %')"
      ]
    },
    {
      "cell_type": "markdown",
      "id": "9a90c190",
      "metadata": {
        "id": "9a90c190"
      },
      "source": [
        "Here, we also calculate the model performance for each class as well."
      ]
    },
    {
      "cell_type": "code",
      "execution_count": 14,
      "id": "8afd6a24",
      "metadata": {
        "colab": {
          "base_uri": "https://localhost:8080/"
        },
        "id": "8afd6a24",
        "outputId": "5874f475-1760-4f93-c112-a9b3c90ee28e"
      },
      "outputs": [
        {
          "output_type": "stream",
          "name": "stdout",
          "text": [
            "Accuracy for class: plane is 84.3 %\n",
            "Accuracy for class: car   is 91.4 %\n",
            "Accuracy for class: bird  is 75.1 %\n",
            "Accuracy for class: cat   is 64.8 %\n",
            "Accuracy for class: deer  is 78.3 %\n",
            "Accuracy for class: dog   is 63.6 %\n",
            "Accuracy for class: frog  is 83.6 %\n",
            "Accuracy for class: horse is 80.7 %\n",
            "Accuracy for class: ship  is 87.4 %\n",
            "Accuracy for class: truck is 82.9 %\n"
          ]
        }
      ],
      "source": [
        "# prepare to count predictions for each class\n",
        "classes = tuple(labels_map.values())\n",
        "correct_pred = {classname: 0 for classname in classes}\n",
        "total_pred = {classname: 0 for classname in classes}\n",
        "\n",
        "# again no gradients needed\n",
        "with torch.no_grad():\n",
        "    for data in test_loader:\n",
        "        ## FILL HERE\n",
        "        images, labels = data\n",
        "        images = images.to(device)\n",
        "        labels = labels.to(device)\n",
        "        outputs = net(images)\n",
        "        _, predictions = torch.max(outputs, 1)\n",
        "        # collect the correct predictions for each class\n",
        "        for label, prediction in zip(labels, predictions):\n",
        "            if label == prediction:\n",
        "                correct_pred[classes[label]] += 1\n",
        "            total_pred[classes[label]] += 1\n",
        "\n",
        "\n",
        "\n",
        "# print accuracy for each class\n",
        "for classname, correct_count in correct_pred.items():\n",
        "    accuracy = 100 * float(correct_count) / total_pred[classname]\n",
        "    print(f'Accuracy for class: {classname:5s} is {accuracy:.1f} %')"
      ]
    }
  ],
  "metadata": {
    "kernelspec": {
      "display_name": "Python 3",
      "name": "python3"
    },
    "language_info": {
      "codemirror_mode": {
        "name": "ipython",
        "version": 3
      },
      "file_extension": ".py",
      "mimetype": "text/x-python",
      "name": "python",
      "nbconvert_exporter": "python",
      "pygments_lexer": "ipython3",
      "version": "3.10.7"
    },
    "colab": {
      "provenance": [],
      "gpuType": "T4",
      "toc_visible": true
    },
    "accelerator": "GPU"
  },
  "nbformat": 4,
  "nbformat_minor": 5
}