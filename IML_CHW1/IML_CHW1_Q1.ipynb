{
  "cells": [
    {
      "cell_type": "markdown",
      "metadata": {
        "id": "c7wdMyNNzf49"
      },
      "source": [
        "<h1 align=\"center\">An Introduction to Machine Learning - 25737</h1>\n",
        "<h4 align=\"center\">Dr. Sajjad Amini</h4>\n",
        "<h4 align=\"center\">Sharif University of Technology, Spring 2023</h4>\n",
        "\n",
        "# Problem Set 01\n",
        "\n",
        "Welcome to your first assignment. This exercise gives you a brief introduction to Python. \n",
        "\n",
        "\n"
      ]
    },
    {
      "attachments": {},
      "cell_type": "markdown",
      "metadata": {
        "id": "Q-qsTRYU5ay5"
      },
      "source": [
        "STUDENT NAME: Alireza Talebi Eshlaghi\n",
        "\n",
        "STUDENT ID: 98101941"
      ]
    },
    {
      "cell_type": "markdown",
      "metadata": {
        "id": "lyOsKSguzf5A"
      },
      "source": [
        "## About iPython Notebooks ##\n",
        "\n",
        "iPython Notebooks are interactive coding environments embedded in a webpage. You will be using iPython notebooks in this class. You only need to write code between the ### START CODE HERE ### and ### END CODE HERE ### comments. After writing your code, you can run the cell by either pressing \"SHIFT\"+\"ENTER\" or by clicking on \"Run Cell\" (denoted by a play symbol) in the upper bar of the notebook. \n",
        "\n",
        "**Exercise**: Set test to `\"Hello World\"` in the cell below to print \"Hello World\" and run the two cells below."
      ]
    },
    {
      "cell_type": "code",
      "execution_count": 1,
      "metadata": {
        "id": "cVMoOWUlzf5A"
      },
      "outputs": [
        {
          "name": "stdout",
          "output_type": "stream",
          "text": [
            "Hello World\n"
          ]
        }
      ],
      "source": [
        "### START CODE HERE ###\n",
        "test = \"Hello World\" \n",
        "print(test)\n",
        "### END CODE HERE ###"
      ]
    },
    {
      "cell_type": "markdown",
      "metadata": {
        "id": "mJZfkY87zf5B"
      },
      "source": [
        "<font color='blue'>\n",
        "**What you need to remember**:\n",
        "- Run your cells using SHIFT+ENTER (or \"Run cell\")\n",
        "- Write code in the designated areas using Python 3 only\n",
        "- Do not modify the code outside of the designated areas"
      ]
    },
    {
      "cell_type": "markdown",
      "metadata": {
        "id": "ZdmzMwNpzf5B"
      },
      "source": [
        "# 1.\n",
        ">What are the lengths of the following lists and strings below? Fill in the variable `lengths` with your predictions. (Try to make a prediction for each list *without* just calling `len()` on it.)"
      ]
    },
    {
      "cell_type": "code",
      "execution_count": 1,
      "metadata": {
        "id": "Yh3d2hZ4zf5C"
      },
      "outputs": [],
      "source": [
        "a = [1, 2, 3]\n",
        "b = [1, [2, 3]]\n",
        "c = []\n",
        "d = [1, 2, 3][1:]\n",
        "e = 'it\\'s ok'\n",
        "f = \"\"\n",
        "g = \"\"\"hey\"\"\"\n",
        "h = '\\n'\n",
        "\n",
        "# Put your predictions in the list below. Lengths should contain 8 numbers, the\n",
        "# first being the length of a, the second being the length of b and so on.\n",
        "### START CODE HERE ###\n",
        "lengths = [3, 2, 0, 2, 7, 0, 3, 1]\n",
        "### END CODE HERE ###"
      ]
    },
    {
      "cell_type": "markdown",
      "metadata": {
        "id": "dMxFzKopzf5C"
      },
      "source": [
        "# 2. \n",
        ">Swap the values to which a and b refer."
      ]
    },
    {
      "cell_type": "code",
      "execution_count": 11,
      "metadata": {
        "id": "HXlpbPVYzf5C"
      },
      "outputs": [
        {
          "name": "stdout",
          "output_type": "stream",
          "text": [
            "a = [3, 2, 1]\n",
            "b = [1, 2, 3]\n"
          ]
        }
      ],
      "source": [
        "a = [1, 2, 3]\n",
        "b = [3, 2, 1]\n",
        "\n",
        "### START CODE HERE ###\n",
        "a, b = b, a\n",
        "print('a =', a)\n",
        "print('b =', b)\n",
        "### END CODE HERE ###"
      ]
    },
    {
      "cell_type": "markdown",
      "metadata": {
        "id": "igr3m4pXzf5C"
      },
      "source": [
        "# 3. \n",
        ">Which of the two variables below has the smallest absolute value? Use Python's built-in functions."
      ]
    },
    {
      "cell_type": "code",
      "execution_count": 6,
      "metadata": {
        "id": "tAy0qBDezf5C"
      },
      "outputs": [
        {
          "name": "stdout",
          "output_type": "stream",
          "text": [
            "minimum absolute value is 5\n"
          ]
        }
      ],
      "source": [
        "x = -10\n",
        "y = 5\n",
        "\n",
        "### START CODE HERE ###\n",
        "smallest_abs = min(abs(x), abs(y))\n",
        "print('minimum absolute value is', smallest_abs)\n",
        "### END CODE HERE ###"
      ]
    },
    {
      "cell_type": "markdown",
      "metadata": {
        "id": "-55kY-Cqzf5C"
      },
      "source": [
        "# 4. \n",
        "\n",
        "> A simple exercise! Run the cell below and try to explain the results for yourself:\n",
        "\n"
      ]
    },
    {
      "cell_type": "code",
      "execution_count": 21,
      "metadata": {
        "id": "_dpAa1Q4zf5D"
      },
      "outputs": [
        {
          "name": "stdout",
          "output_type": "stream",
          "text": [
            "1.0\n",
            "0.0\n",
            "1.0\n"
          ]
        }
      ],
      "source": [
        "print( 1.0 + 1.0 - 1.0 )\n",
        "print( 1.0 + 1.0e20 - 1.0e20 )\n",
        "print( 1.0e20 - 1.0e20 + 1 )"
      ]
    },
    {
      "attachments": {},
      "cell_type": "markdown",
      "metadata": {},
      "source": [
        "In python, 1.0 + 1.0e20 results in 1.0e20. So the result of 2nd line is 1.0e20 - 1.0e20 = 0.\n",
        "In 3rd line, 1.0e20 - 1.0e20 = 0 is evaluated primarily and then added to 1."
      ]
    },
    {
      "cell_type": "markdown",
      "metadata": {
        "id": "3G2-lTfDzf5D"
      },
      "source": [
        "# 5.\n",
        ">Many programming languages have [`sign`](https://en.wikipedia.org/wiki/Sign_function) available as a built-in function. Python doesn't, but we can define our own! \n",
        "In the cell below, define a function called `sign` which takes a numerical argument and returns -1 if it's negative, 1 if it's positive, and 0 if it's 0."
      ]
    },
    {
      "cell_type": "code",
      "execution_count": 23,
      "metadata": {
        "id": "ASICcFwYzf5D"
      },
      "outputs": [
        {
          "name": "stdout",
          "output_type": "stream",
          "text": [
            "1\n",
            "-1\n",
            "0\n"
          ]
        }
      ],
      "source": [
        "def sign(x):\n",
        "    # (\"pass\" is a keyword that does literally nothing. We used it as a placeholder\n",
        "    # because after we begin a code block, Python requires at least one line of code)\n",
        "    ### START CODE HERE ###\n",
        "    if x < 0:\n",
        "        return -1\n",
        "    elif x > 0:\n",
        "        return 1\n",
        "    else:\n",
        "        return 0\n",
        "    ### END CODE HERE ###\n",
        "    pass\n",
        "\n",
        "# You can try different examples to check your function:\n",
        "print(sign(2))\n",
        "print(sign(-2))\n",
        "print(sign(0))"
      ]
    },
    {
      "cell_type": "markdown",
      "metadata": {
        "id": "6on-t1f0zf5D"
      },
      "source": [
        "# 6. \n",
        ">Complete the body of the following function according to its docstring.\n",
        "\n",
        "HINT: Python has a built-in function `round`."
      ]
    },
    {
      "cell_type": "code",
      "execution_count": 16,
      "metadata": {
        "id": "VINxi-ngzf5D"
      },
      "outputs": [
        {
          "data": {
            "text/plain": [
              "10.0"
            ]
          },
          "execution_count": 16,
          "metadata": {},
          "output_type": "execute_result"
        }
      ],
      "source": [
        "def round_to_two_places(num):\n",
        "    \"\"\"Return the given number rounded to two decimal places. \n",
        "    \n",
        "    >>> round_to_two_places(3.14159)\n",
        "    3.14\n",
        "    \"\"\"\n",
        "    ### START CODE HERE ###\n",
        "    return round(num, 2)\n",
        "    ### END CODE HERE ###\n",
        "    pass\n",
        "\n",
        "round_to_two_places(9.9999)"
      ]
    },
    {
      "cell_type": "markdown",
      "metadata": {
        "id": "5FtTkgU6zf5D"
      },
      "source": [
        "The help for `round` says that `ndigits` (the second argument) may be negative.\n",
        "What do you think will happen when it is? Try an example in the cell below."
      ]
    },
    {
      "cell_type": "code",
      "execution_count": 19,
      "metadata": {
        "id": "G6_vfswBzf5D"
      },
      "outputs": [
        {
          "data": {
            "text/plain": [
              "200.0"
            ]
          },
          "execution_count": 19,
          "metadata": {},
          "output_type": "execute_result"
        }
      ],
      "source": [
        "round(232.4243, -2)"
      ]
    },
    {
      "attachments": {},
      "cell_type": "markdown",
      "metadata": {},
      "source": [
        "This function rounds up to 10^(-ndigits). So the rusult is rounded up to 2 digits before the point."
      ]
    },
    {
      "cell_type": "markdown",
      "metadata": {
        "id": "i3sKJk1jzf5D"
      },
      "source": [
        "# 7.\n",
        "> Write a function that evaluates the polynomial $${3x^2 − x + 2}$$"
      ]
    },
    {
      "cell_type": "code",
      "execution_count": 1,
      "metadata": {
        "id": "cKy7RJVTzf5E"
      },
      "outputs": [
        {
          "data": {
            "text/plain": [
              "292"
            ]
          },
          "execution_count": 1,
          "metadata": {},
          "output_type": "execute_result"
        }
      ],
      "source": [
        "def polynomial(x):\n",
        "    ### START CODE HERE ###\n",
        "    return 3 * x**2 - x + 2\n",
        "    ### END CODE HERE ###\n",
        "    pass\n",
        "\n",
        "polynomial(10)"
      ]
    },
    {
      "cell_type": "markdown",
      "metadata": {
        "id": "HI8Nje1Jzf5E"
      },
      "source": [
        "# 8.\n",
        ">Complete the function below according to its docstring."
      ]
    },
    {
      "cell_type": "code",
      "execution_count": 2,
      "metadata": {
        "id": "4pDj20lbzf5E"
      },
      "outputs": [
        {
          "data": {
            "text/plain": [
              "'b'"
            ]
          },
          "execution_count": 2,
          "metadata": {},
          "output_type": "execute_result"
        }
      ],
      "source": [
        "def select_second(L):\n",
        "    \"\"\"Return the second element of the given list. If the list has no second\n",
        "    element, return None.\n",
        "    \"\"\"\n",
        "    ### START CODE HERE ###\n",
        "    if len(L)>1: \n",
        "        return L[1]\n",
        "    else:\n",
        "        return None\n",
        "    ### END CODE HERE ###\n",
        "    pass\n",
        "\n",
        "l = ['a','b','c']\n",
        "select_second(l)"
      ]
    },
    {
      "cell_type": "markdown",
      "metadata": {
        "id": "uHty8trFzf5E"
      },
      "source": [
        "# 9.\n",
        ">We're using lists to record people who attended a class and what order they arrived in. For example, the following list represents a class with 7 students, in which 'Amirhossein' showed up first and 'Pedram' was the last to arrive:\n",
        "    \n",
        "> class_attendees = ['Amirhossein', 'Hadi', 'Fatemeh', 'Mahtab', 'Ali', 'Nasim', 'Pedram']\n",
        "\n",
        "> A student is considered 'fashionably late' if they arrived after at least half of the class's students. However, they must not be the very last student (that's taking it too far). In the above example, Ali and Nasim are the only students who were fashionably late.\n",
        "Complete the function below which takes a list of class attendees as well as a person, and tells us whether that person is fashionably late."
      ]
    },
    {
      "cell_type": "code",
      "execution_count": 27,
      "metadata": {
        "id": "8xOjqaTvzf5E"
      },
      "outputs": [
        {
          "name": "stdout",
          "output_type": "stream",
          "text": [
            "True\n",
            "False\n"
          ]
        }
      ],
      "source": [
        "def fashionably_late(arrivals, name):\n",
        "    \"\"\"Given an ordered list of arrivals to the class and a name, return whether the student with that\n",
        "    name was fashionably late.\n",
        "    \"\"\"\n",
        "    ### START CODE HERE ###\n",
        "    index = arrivals.index(name) + 1\n",
        "    if index >= len(arrivals)/2 + 1 and index != len(arrivals):\n",
        "        return True\n",
        "    return False\n",
        "    ### END CODE HERE ###\n",
        "    pass\n",
        "\n",
        "class_attendees = ['Amirhossein', 'Hadi', 'Fatemeh','Mahtab', 'Ali', 'Nasim', 'Pedram']\n",
        "print(fashionably_late(class_attendees, 'Ali'))\n",
        "print(fashionably_late(class_attendees, 'Mahtab'))"
      ]
    },
    {
      "cell_type": "markdown",
      "metadata": {
        "id": "xYVP-8eWzf5E"
      },
      "source": [
        "# 10.\n",
        ">Complete the function below according to its docstring."
      ]
    },
    {
      "cell_type": "code",
      "execution_count": 28,
      "metadata": {
        "id": "HQ-mpu1zzf5E"
      },
      "outputs": [
        {
          "name": "stdout",
          "output_type": "stream",
          "text": [
            "False\n",
            "True\n"
          ]
        }
      ],
      "source": [
        "def has_lucky_number(nums):\n",
        "    \"\"\"Return whether the given list of numbers is lucky. A lucky list contains\n",
        "    at least one number divisible by 7.\n",
        "    \"\"\"\n",
        "    ### START CODE HERE ###\n",
        "    for number in nums:\n",
        "        if number%7 == 0:\n",
        "            return True\n",
        "    return False\n",
        "    ### END CODE HERE ###\n",
        "    pass\n",
        "\n",
        "nums_1 = [1, 2, 3]\n",
        "print(has_lucky_number(nums_1))\n",
        "nums_2 = [1, 2, 7]\n",
        "print(has_lucky_number(nums_2))"
      ]
    },
    {
      "cell_type": "markdown",
      "metadata": {
        "id": "tp4MIqyozf5E"
      },
      "source": [
        "# 11.\n",
        "\n",
        ">Complete the body of the function below according to its docstring."
      ]
    },
    {
      "cell_type": "code",
      "execution_count": 30,
      "metadata": {
        "id": "28PSD7eKzf5F"
      },
      "outputs": [
        {
          "name": "stdout",
          "output_type": "stream",
          "text": [
            "True\n",
            "False\n"
          ]
        }
      ],
      "source": [
        "def menu_is_boring(meals):\n",
        "    \"\"\"Given a list of meals served over some period of time, return True if the\n",
        "    same meal has ever been served two days in a row, and False otherwise.\n",
        "    \"\"\"\n",
        "    ### START CODE HERE ###\n",
        "    today = meals[0]\n",
        "    for i in range(2,len(meals)):\n",
        "        if meals[i]==today:\n",
        "            return True\n",
        "        today = meals[i]\n",
        "    return False\n",
        "    ### END CODE HERE ###\n",
        "    pass\n",
        "meals = ['sandwich', 'kebab', 'fish', 'fish']\n",
        "print(menu_is_boring(meals))\n",
        "meals = ['sandwich', 'kebab', 'fish']\n",
        "print(menu_is_boring(meals))"
      ]
    },
    {
      "cell_type": "markdown",
      "metadata": {
        "id": "WxphNvtzzf5F"
      },
      "source": [
        "# 12.\n",
        "\n",
        "> There is a saying that \"Data scientists spend 80% of their time cleaning data, and 20% of their time complaining about cleaning data.\" Let's see if you can write a function to help clean US zip code data. Given a string, it should return whether or not that string represents a valid zip code. For our purposes, a valid zip code is any string consisting of exactly 5 digits.\n",
        "\n",
        "HINT: `str` has a method that will be useful here. Use `help(str)` to review a list of string methods."
      ]
    },
    {
      "cell_type": "code",
      "execution_count": 31,
      "metadata": {
        "id": "BPjuuKfXzf5F"
      },
      "outputs": [
        {
          "name": "stdout",
          "output_type": "stream",
          "text": [
            "True\n"
          ]
        }
      ],
      "source": [
        "def is_valid_zip(zip_code):\n",
        "    \"\"\"Returns whether the input string is a valid (5 digit) zip code\n",
        "    \"\"\"\n",
        "    ### START CODE HERE ###\n",
        "    if len(zip_code)!=5:\n",
        "        return False\n",
        "    for c in zip_code:\n",
        "        if not c.isdigit():\n",
        "            return False\n",
        "    return True\n",
        "    ### END CODE HERE ###\n",
        "    pass\n",
        "\n",
        "s = input(\"Enter a String:\")\n",
        "print(is_valid_zip(zip_code=s))"
      ]
    },
    {
      "cell_type": "markdown",
      "metadata": {
        "id": "CAB_4WFczf5F"
      },
      "source": [
        "# 13.\n",
        ">Write a function my_max(x,y) that returns the maximum of x and y. \n",
        "\n",
        ">Do not use the max function, but use if instead in following two ways:\n",
        "\n",
        ">> (a) Use both if and else.\n",
        "\n",
        ">> (b) Use if but not else (nor elif)."
      ]
    },
    {
      "cell_type": "code",
      "execution_count": 22,
      "metadata": {
        "id": "EdxovDduzf5F"
      },
      "outputs": [
        {
          "name": "stdout",
          "output_type": "stream",
          "text": [
            "13\n"
          ]
        }
      ],
      "source": [
        "def my_max_a(x, y):\n",
        "    ### START CODE HERE ###\n",
        "    if x > y:\n",
        "        return x\n",
        "    else:\n",
        "        return y\n",
        "    ### END CODE HERE ###\n",
        "    pass\n",
        "\n",
        "print(my_max_a(13, 7))"
      ]
    },
    {
      "cell_type": "code",
      "execution_count": 24,
      "metadata": {
        "id": "QbC8rsevzf5F"
      },
      "outputs": [
        {
          "name": "stdout",
          "output_type": "stream",
          "text": [
            "13\n"
          ]
        }
      ],
      "source": [
        "def my_max_b(x, y):\n",
        "    ### START CODE HERE ###\n",
        "    if x > y:\n",
        "        return x\n",
        "    return y\n",
        "    ### END CODE HERE ###\n",
        "    pass\n",
        "\n",
        "print(my_max_b(13, 7))"
      ]
    },
    {
      "cell_type": "markdown",
      "metadata": {
        "id": "SPGRkQKczf5F"
      },
      "source": [
        "# 14.  \n",
        "\n",
        "> Let i,j = 1,...,n\n",
        "\n",
        ">>(a) Generate a list with elements [i,j].\n",
        "\n",
        ">>(b) Generate a list with elements [i,j] with i < j\n",
        "\n",
        ">>(c) Generate a list with elements i + j with both i and j prime and i > j\n",
        "\n",
        "Use List comprehensions"
      ]
    },
    {
      "cell_type": "code",
      "execution_count": 37,
      "metadata": {
        "id": "6kEF2l-azf5F"
      },
      "outputs": [
        {
          "name": "stdout",
          "output_type": "stream",
          "text": [
            "[5, 7, 8, 9, 10, 12, 13, 14, 16, 18, 15, 16, 18, 20, 24, 19, 20, 22, 24, 28, 30, 21, 22, 24, 26, 30, 32, 36, 25, 26, 28, 30, 34, 36, 40, 42, 31, 32, 34, 36, 40, 42, 46, 48, 52]\n"
          ]
        }
      ],
      "source": [
        "# a)\n",
        "### START CODE HERE ###\n",
        "n = 30\n",
        "i = j = [k for k in range(1,n+1)]\n",
        "A = [[m, n] for m in i for n in j]\n",
        "### END CODE HERE ###\n",
        "\n",
        "\n",
        "# b)\n",
        "### START CODE HERE ###\n",
        "B = [[m, n] for m in i for n in j if m < n]\n",
        "### END CODE HERE ###\n",
        "\n",
        "\n",
        "# c)\n",
        "### START CODE HERE ###\n",
        "C = [m + n for m in i if m>1 and all(m%x != 0 for x in range(2,m)) for n in j if n>1 and all(n%x != 0 for x in range(2,n)) if m > n] \n",
        "print(C)\n",
        "### END CODE HERE ###"
      ]
    },
    {
      "cell_type": "markdown",
      "metadata": {
        "id": "1Nt-b71ozf5F"
      },
      "source": [
        "# 15. \n",
        "\n",
        ">Complete the body of the function below according to its docstring."
      ]
    },
    {
      "cell_type": "code",
      "execution_count": 9,
      "metadata": {
        "id": "h7dJzbXgzf5F"
      },
      "outputs": [
        {
          "data": {
            "text/plain": [
              "[2002,\n",
              " 2009,\n",
              " 2016,\n",
              " 2023,\n",
              " 2037,\n",
              " 2044,\n",
              " 2051,\n",
              " 2058,\n",
              " 2072,\n",
              " 2079,\n",
              " 2086,\n",
              " 2093,\n",
              " 2107,\n",
              " 2114,\n",
              " 2121,\n",
              " 2128,\n",
              " 2142,\n",
              " 2149,\n",
              " 2156,\n",
              " 2163,\n",
              " 2177,\n",
              " 2184,\n",
              " 2191,\n",
              " 2198,\n",
              " 2212,\n",
              " 2219,\n",
              " 2226,\n",
              " 2233,\n",
              " 2247,\n",
              " 2254,\n",
              " 2261,\n",
              " 2268,\n",
              " 2282,\n",
              " 2289,\n",
              " 2296,\n",
              " 2303,\n",
              " 2317,\n",
              " 2324,\n",
              " 2331,\n",
              " 2338,\n",
              " 2352,\n",
              " 2359,\n",
              " 2366,\n",
              " 2373,\n",
              " 2387,\n",
              " 2394,\n",
              " 2401,\n",
              " 2408,\n",
              " 2422,\n",
              " 2429,\n",
              " 2436,\n",
              " 2443,\n",
              " 2457,\n",
              " 2464,\n",
              " 2471,\n",
              " 2478,\n",
              " 2492,\n",
              " 2499,\n",
              " 2506,\n",
              " 2513,\n",
              " 2527,\n",
              " 2534,\n",
              " 2541,\n",
              " 2548,\n",
              " 2562,\n",
              " 2569,\n",
              " 2576,\n",
              " 2583,\n",
              " 2597,\n",
              " 2604,\n",
              " 2611,\n",
              " 2618,\n",
              " 2632,\n",
              " 2639,\n",
              " 2646,\n",
              " 2653,\n",
              " 2667,\n",
              " 2674,\n",
              " 2681,\n",
              " 2688,\n",
              " 2702,\n",
              " 2709,\n",
              " 2716,\n",
              " 2723,\n",
              " 2737,\n",
              " 2744,\n",
              " 2751,\n",
              " 2758,\n",
              " 2772,\n",
              " 2779,\n",
              " 2786,\n",
              " 2793,\n",
              " 2807,\n",
              " 2814,\n",
              " 2821,\n",
              " 2828,\n",
              " 2842,\n",
              " 2849,\n",
              " 2856,\n",
              " 2863,\n",
              " 2877,\n",
              " 2884,\n",
              " 2891,\n",
              " 2898,\n",
              " 2912,\n",
              " 2919,\n",
              " 2926,\n",
              " 2933,\n",
              " 2947,\n",
              " 2954,\n",
              " 2961,\n",
              " 2968,\n",
              " 2982,\n",
              " 2989,\n",
              " 2996,\n",
              " 3003,\n",
              " 3017,\n",
              " 3024,\n",
              " 3031,\n",
              " 3038,\n",
              " 3052,\n",
              " 3059,\n",
              " 3066,\n",
              " 3073,\n",
              " 3087,\n",
              " 3094,\n",
              " 3101,\n",
              " 3108,\n",
              " 3122,\n",
              " 3129,\n",
              " 3136,\n",
              " 3143,\n",
              " 3157,\n",
              " 3164,\n",
              " 3171,\n",
              " 3178,\n",
              " 3192,\n",
              " 3199]"
            ]
          },
          "execution_count": 9,
          "metadata": {},
          "output_type": "execute_result"
        }
      ],
      "source": [
        "def my_func():\n",
        "    \"\"\"Write a function which will return a list contains all such numbers which are divisible by 7 but are not a multiple\n",
        "    of 5, between 2000 and 3200 (both included).\n",
        "    \"\"\"\n",
        "    ### START CODE HERE ###\n",
        "    return [i for i in range(2000, 3201) if i%7==0 and i%5!=0]\n",
        "    ### END CODE HERE ###\n",
        "    pass\n",
        "\n",
        "my_func()"
      ]
    },
    {
      "cell_type": "markdown",
      "metadata": {
        "id": "4hCkNduIzf5F"
      },
      "source": [
        "# 16.\n",
        "\n",
        ">Write a program that accepts a sentence and calculate the number of letters and digits.\n",
        "Suppose the following input is supplied to the program:\n",
        "\n",
        "        hello world! 123\n",
        ">Then, the output should be:\n",
        "\n",
        ">>LETTERS 10\n",
        "\n",
        ">>DIGITS 3"
      ]
    },
    {
      "cell_type": "code",
      "execution_count": 10,
      "metadata": {
        "id": "zCF3Jcxrzf5G"
      },
      "outputs": [
        {
          "name": "stdout",
          "output_type": "stream",
          "text": [
            "LETTERS 10\n",
            "DIGITS 3\n"
          ]
        }
      ],
      "source": [
        "### START CODE HERE ###\n",
        "\n",
        "string = input(\"Enter a sentence: \")\n",
        "letters = 0\n",
        "digits = 0\n",
        "\n",
        "for c in string:\n",
        "    if c.isalpha():\n",
        "        letters += 1\n",
        "    elif c.isdigit():\n",
        "        digits += 1 \n",
        "\n",
        "print(\"LETTERS\", letters)\n",
        "print(\"DIGITS\", digits)\n",
        "### END CODE HERE ###"
      ]
    },
    {
      "cell_type": "markdown",
      "metadata": {
        "id": "SrFe49A3zf5G"
      },
      "source": [
        "# 17.\n",
        "Write a function to sort a list of tuples (name, age, height) by ascending order\n",
        "where name is string, age and height are numbers. The sort\n",
        "criteria is:\n",
        "\n",
        "* 1: Sort based on name;\n",
        "* 2: Then sort based on age;\n",
        "* 3: Then sort by score.\n",
        "\n",
        "The priority is that name > age > score.\n",
        "If the following list is given as input to the function:\n",
        ">[('Taha',19,80), ('Farhad',20,90), ('Farrokh',17,91), ('Farrokh',17,93), ('Fatemeh',21,85)]\n",
        "\n",
        "Then, the output of the program should be:\n",
        ">[('Farhad', '20', '90'), ('Farrokh', '17', '91'), ('Farrokh', '17', '93'), ('Fatemeh', '21', '85'), ('Taha', '19', '80')]"
      ]
    },
    {
      "cell_type": "code",
      "execution_count": 18,
      "metadata": {
        "id": "ovUPqq9Tzf5G"
      },
      "outputs": [
        {
          "name": "stdout",
          "output_type": "stream",
          "text": [
            "[('Farhad', 20, 90), ('Farrokh', 17, 91), ('Farrokh', 17, 93), ('Fatemeh', 21, 85), ('Taha', 19, 80)]\n"
          ]
        }
      ],
      "source": [
        "def sortTuple(inputList):\n",
        "    ### START CODE HERE ###\n",
        "    return sorted(inputList, key= lambda x: (x[0], x[1], x[2]))\n",
        "    ### END CODE HERE ###\n",
        "    pass\n",
        "\n",
        "\n",
        "myList = [('Taha',19,80), ('Farhad',20,90), ('Farrokh',17,91), ('Farrokh',17,93), ('Fatemeh',21,85)]\n",
        "sortedList = sortTuple(myList)\n",
        "print(sortedList)"
      ]
    }
  ],
  "metadata": {
    "colab": {
      "provenance": []
    },
    "kernelspec": {
      "display_name": "Python 3",
      "language": "python",
      "name": "python3"
    },
    "language_info": {
      "codemirror_mode": {
        "name": "ipython",
        "version": 3
      },
      "file_extension": ".py",
      "mimetype": "text/x-python",
      "name": "python",
      "nbconvert_exporter": "python",
      "pygments_lexer": "ipython3",
      "version": "3.10.7"
    },
    "vscode": {
      "interpreter": {
        "hash": "301a17a29b57d3836b7901af1621afd6d2b1f2298b9c7949191147cf2fea93e3"
      }
    }
  },
  "nbformat": 4,
  "nbformat_minor": 0
}
